{
 "cells": [
  {
   "cell_type": "code",
   "execution_count": 4,
   "id": "b6dc2d4a",
   "metadata": {
    "scrolled": true
   },
   "outputs": [
    {
     "name": "stdout",
     "output_type": "stream",
     "text": [
      "Carpeta creada: Data/Messi\n",
      "Detectando\n",
      "FIN\n"
     ]
    }
   ],
   "source": [
    "import cv2\n",
    "import os\n",
    "import imutils\n",
    "import numpy as np\n",
    "from keras.preprocessing.image import ImageDataGenerator\n",
    "\n",
    "personName = 'Jair'\n",
    "dataPath = 'Data' # Cambia a la ruta donde hayas almacenado Data\n",
    "personPath = dataPath + '/' + personName\n",
    "\n",
    "if not os.path.exists(personPath):\n",
    "    print('Carpeta creada:', personPath)\n",
    "    os.makedirs(personPath)\n",
    "\n",
    "cap = cv2.VideoCapture('JAIR1.mp4')\n",
    "print('Detectando')\n",
    "\n",
    "faceClassif = cv2.CascadeClassifier(cv2.data.haarcascades + 'haarcascade_frontalface_default.xml')\n",
    "\n",
    "# Crear el generador de imágenes aumentadas\n",
    "datagen = ImageDataGenerator(\n",
    "    rotation_range=20,  # Rango de rotación de las imágenes\n",
    "    width_shift_range=0.1,  # Rango de desplazamiento horizontal\n",
    "    height_shift_range=0.1,  # Rango de desplazamiento vertical\n",
    "    shear_range=0.1,  # Rango de deformación de corte\n",
    "    zoom_range=0.1,  # Rango de zoom\n",
    "    horizontal_flip=True,  # Volteo horizontal aleatorio\n",
    "    brightness_range=(0.9, 1.1)  # Rango de brillo\n",
    ")\n",
    "\n",
    "count = 0\n",
    "\n",
    "while True:\n",
    "    ret, frame = cap.read()\n",
    "    if ret == False:\n",
    "        break\n",
    "    frame = imutils.resize(frame, width=640)\n",
    "    gray = cv2.cvtColor(frame, cv2.COLOR_BGR2GRAY)\n",
    "    auxFrame = frame.copy()\n",
    "\n",
    "    faces = faceClassif.detectMultiScale(gray, 1.2, 5)\n",
    "\n",
    "    for (x, y, w, h) in faces:\n",
    "        cv2.rectangle(frame, (x, y), (x+w, y+h), (0, 255, 0), 2)\n",
    "        rostro = auxFrame[y:y+h, x:x+w]\n",
    "        rostro = cv2.resize(rostro, (150, 150), interpolation=cv2.INTER_CUBIC)\n",
    "\n",
    "        # Generar imágenes aumentadas\n",
    "        augmented_images = datagen.flow(np.array([rostro]), batch_size=1)\n",
    "\n",
    "        for i, augmented_image in enumerate(augmented_images):\n",
    "            if i >= 5:  # Guardar solo 5 imágenes aumentadas por cada detección\n",
    "                break\n",
    "\n",
    "            augmented_image = augmented_image[0].astype(np.uint8)\n",
    "\n",
    "            # Girar imagen\n",
    "            rotated_image = cv2.rotate(augmented_image, cv2.ROTATE_90_CLOCKWISE)\n",
    "\n",
    "            # Voltear lateralmente\n",
    "            flipped_image = cv2.flip(augmented_image, 1)\n",
    "\n",
    "            # Aplicar zoom\n",
    "            zoomed_image = cv2.resize(augmented_image, None, fx=1.2, fy=1.2)\n",
    "\n",
    "            # Guardar imágenes aumentadas\n",
    "            cv2.imwrite(personPath + '/rostro_{}.jpg'.format(count), augmented_image)\n",
    "            count += 1\n",
    "            cv2.imwrite(personPath + '/rostro_{}.jpg'.format(count), rotated_image)\n",
    "            count += 1\n",
    "            cv2.imwrite(personPath + '/rostro_{}.jpg'.format(count), flipped_image)\n",
    "            count += 1\n",
    "            cv2.imwrite(personPath + '/rostro_{}.jpg'.format(count), zoomed_image)\n",
    "            count += 1\n",
    "\n",
    "    cv2.imshow('frame', frame)\n",
    "\n",
    "    k = cv2.waitKey(1)\n",
    "    if k == 27 or count >= 2000:\n",
    "        break\n",
    "\n",
    "print('FIN')\n",
    "\n",
    "cap.release()\n",
    "cv2.destroyAllWindows()\n"
   ]
  },
  {
   "cell_type": "code",
   "execution_count": null,
   "id": "35a87050",
   "metadata": {},
   "outputs": [],
   "source": []
  }
 ],
 "metadata": {
  "kernelspec": {
   "display_name": "Python 3 (ipykernel)",
   "language": "python",
   "name": "python3"
  },
  "language_info": {
   "codemirror_mode": {
    "name": "ipython",
    "version": 3
   },
   "file_extension": ".py",
   "mimetype": "text/x-python",
   "name": "python",
   "nbconvert_exporter": "python",
   "pygments_lexer": "ipython3",
   "version": "3.11.2"
  }
 },
 "nbformat": 4,
 "nbformat_minor": 5
}
